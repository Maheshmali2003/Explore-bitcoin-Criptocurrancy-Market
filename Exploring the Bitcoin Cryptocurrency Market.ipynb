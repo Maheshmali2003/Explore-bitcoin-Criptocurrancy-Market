{
 "cells": [
  {
   "cell_type": "markdown",
   "id": "54072171",
   "metadata": {},
   "source": [
    "TOPIC: Exploring the Bitcoin Cryptocurrency Market By Mahesh Kailas Mali E-mkmali8698@gmail.com"
   ]
  },
  {
   "cell_type": "markdown",
   "id": "cae6d054",
   "metadata": {},
   "source": [
    "# Concept :\n",
    "The project “Exploring the Bitcoin Cryptocurrency Market” aims to provide a comprehensive analysis and understanding of the dynamics surrounding the Bitcoin cryptocurrency. In this exploration, we will look at various aspects of the Bitcoin market, including its historical trends, price fluctuations, market sentiment, and key influencing factors. The project will leverage data analytics and visualization techniques to present valuable insights that will cater to both novice and experienced cryptocurrency enthusiasts.\n",
    "\n",
    "key components:\n",
    "\n",
    "1. **Historical Analysis:**\n",
    "       Take an in-depth look at Bitcoin's historical performance, identifying key milestones, major price fluctuations, and correlations with external events. This section will serve as a basis for understanding the evolution of cryptocurrencies over time.\n",
    "\n",
    "2. **Market Trends and Patterns:**\n",
    "       Use technical analysis to identify trends, patterns and potential indicators of market activity. Analyze factors such as trading volume, moving averages and trend lines to gain insight into current market conditions.\n",
    "\n",
    "3. **Market Sentiment Analysis:**\n",
    "       Explore sentiment analysis tools to assess the overall mood of the Bitcoin market. By analyzing social media, news articles and forums, we aim to understand how public perception and sentiment influences Bitcoin's price movements.\n",
    "\n",
    "4. **Major influencing factors:**\n",
    "       Examine the various factors that influence the value of Bitcoin, including macroeconomic trends, regulatory developments, technological advancements, and global events. It is important to understand these factors to predict potential future market changes.\n",
    "\n",
    "5. **Data Visualization:**\n",
    "       Employ data visualization techniques to present findings in an easily digestible format. Graphs, charts and interactive visual elements will be used to increase the reach of the project and facilitate better understanding of complex market dynamics.\n",
    "\n",
    "6. **Educational Resources:**\n",
    "       Provide educational resources for users to better understand the fundamental concepts of the Bitcoin market. This may include tutorials on the basics of cryptocurrency, how to read market charts, and risk management strategies for cryptocurrency investments.\n",
    "\n",
    "7. **Future Market Predictions:**\n",
    "       Develop models or algorithms that attempt to predict future Bitcoin market movements based on historical data and current trends. Emphasize the hypothetical nature of such predictions while providing users with the tools to make informed decisions.\n",
    "\n",
    "By combining historical data analysis, market sentiment assessment, and educational resources, “Exploring the Bitcoin Cryptocurrency Market” aims to be a valuable resource for anyone interested in understanding, analyzing, and navigating the dynamic landscape of the Bitcoin market. . ,"
   ]
  },
  {
   "cell_type": "markdown",
   "id": "64b3e3dd",
   "metadata": {},
   "source": [
    "# Objective: \n",
    "\n",
    "Comprehensively exploring the dynamic landscape of the Bitcoin cryptocurrency market, analyzing key trends, market dynamics and potential investment opportunities. The purpose of this exploration is to increase understanding of Bitcoin's role in the broader financial ecosystem, assess risk factors, and provide insights that can inform strategic decision-making for individuals or organizations interested in joining or understanding the cryptocurrency market.\n"
   ]
  },
  {
   "cell_type": "markdown",
   "id": "87ef2a45",
   "metadata": {},
   "source": [
    "# Data sources used:\n",
    "Exploring the Bitcoin Cryptocurrency- Market -codecademy/notebook.ipynb"
   ]
  },
  {
   "cell_type": "markdown",
   "id": "8dbdf5da",
   "metadata": {},
   "source": [
    "# Data Analytics software used:\n",
    "Python & Jupyter Notebook Libraries used:\n",
    "\n",
    "1.Pandas-use for dataframe manipulation.\n",
    "\n",
    "2.Matplotlib- to create data visualization\n"
   ]
  },
  {
   "cell_type": "markdown",
   "id": "3ded4dd5",
   "metadata": {},
   "source": [
    "# Data sets probable visualizations:\n",
    "\n",
    "Bar Graphs and subplot will be used using for better visualization\n"
   ]
  },
  {
   "cell_type": "markdown",
   "id": "1d5ab783",
   "metadata": {},
   "source": [
    "# Methodology: \n",
    "    \n",
    "1.Literature Review:\n",
    "Conduct a comprehensive review of existing literature on Bitcoin and cryptocurrency markets.\n",
    "Analyze historical trends, market dynamics, and key factors influencing Bitcoin's price movements.\n",
    "\n",
    "2.Data Collection:\n",
    "Gather relevant data from reputable cryptocurrency exchanges and financial sources.\n",
    "Include historical price data, trading volumes, market capitalization, and any pertinent fundamental indicators.\n",
    "\n",
    "3.Market Analysis:\n",
    "Utilize technical analysis tools to examine historical price charts, identify trends, and recognize potential patterns.\n",
    "Evaluate key technical indicators such as moving averages, RSI (Relative Strength Index), and MACD (Moving Average Convergence Divergence).\n",
    "\n",
    "4.Fundamental Analysis:\n",
    "Investigate fundamental factors affecting Bitcoin's value, including regulatory developments, technological advancements, and macroeconomic trends.\n",
    "Assess the impact of institutional involvement, government policies, and public perception on the cryptocurrency market.\n",
    "\n",
    "5.Risk Assessment:\n",
    "Identify and evaluate potential risks associated with investing in Bitcoin, considering market volatility, regulatory uncertainties, and cybersecurity threats.\n",
    "Develop risk management strategies to mitigate potential downsides.\n",
    "\n",
    "6.Scenario Analysis:\n",
    "Perform scenario analysis to evaluate the impact of various events (e.g., regulatory changes, technological upgrades) on Bitcoin's market dynamics.\n",
    "Assess how different scenarios may influence short-term and long-term market trends.\n",
    "\n",
    "7.Conclusion and Recommendations:\n",
    "Summarize findings from the exploration of the Bitcoin cryptocurrency market.\n",
    "Provide actionable recommendations for investors or stakeholders based on the analysis conducted."
   ]
  },
  {
   "cell_type": "markdown",
   "id": "63c91cee",
   "metadata": {},
   "source": [
    "# 1. Bitcoin and Cryptocurrencies: Full dataset, filtering, and reproducibility\n",
    "Since the launch of Bitcoin in 2008, hundreds of similar projects based on the blockchain technology have emerged. We call these cryptocurrencies (also coins or cryptos in the Internet slang). Some are extremely valuable nowadays, and others may have the potential to become extremely valuable in the future1. In fact, on the 6th of December of 2018, Bitcoin has a market capitalization above $200 billion.\n",
    "\n",
    "The astonishing increase of Bitcoin market capitalization in 2017.\n",
    "*1 WARNING: The cryptocurrency market is exceptionally volatile2 and any money you put in might disappear into thin air. Cryptocurrencies mentioned here might be scams similar to Ponzi Schemes or have many other issues (overvaluation, technical, etc.). Please do not mistake this for investment advice. *"
   ]
  },
  {
   "cell_type": "code",
   "execution_count": null,
   "id": "61621d19",
   "metadata": {},
   "outputs": [],
   "source": [
    "# Importing pandas\n",
    "import pandas as pd\n",
    "\n",
    "# Importing matplotlib and setting aesthetics for plotting later.\n",
    "import matplotlib.pyplot as plt\n",
    "%matplotlib inline\n",
    "%config InlineBackend.figure_format = 'svg' \n",
    "plt.style.use('fivethirtyeight')\n",
    "\n",
    "# Reading datasets/coinmarketcap_06122017.csv into pandas\n",
    "df = pd.read_csv(\"coinmarketcap_06012018.csv\")\n",
    "\n",
    "# Selecting the 'id' and the 'market_cap_usd' columns\n",
    "market_cap_raw = df[['id','market_cap_usd']]\n"
   ]
  },
  {
   "cell_type": "code",
   "execution_count": null,
   "id": "9f3e4f79",
   "metadata": {},
   "outputs": [],
   "source": [
    "df.head"
   ]
  },
  {
   "cell_type": "code",
   "execution_count": null,
   "id": "956c32db",
   "metadata": {},
   "outputs": [],
   "source": [
    "df"
   ]
  },
  {
   "cell_type": "code",
   "execution_count": null,
   "id": "eb92fe90",
   "metadata": {},
   "outputs": [],
   "source": [
    "market_cap_raw.count()"
   ]
  },
  {
   "cell_type": "code",
   "execution_count": null,
   "id": "5db50570",
   "metadata": {},
   "outputs": [],
   "source": [
    "df2021 = pd.read_csv(\"bitcoin.csv\")"
   ]
  },
  {
   "cell_type": "code",
   "execution_count": null,
   "id": "b188da10",
   "metadata": {},
   "outputs": [],
   "source": [
    "df2021"
   ]
  },
  {
   "cell_type": "markdown",
   "id": "6ccd57a3",
   "metadata": {},
   "source": [
    "# 2. Discard the cryptocurrencies without a market capitalization\n",
    "Why do the count() for id and market_cap_usd differ above? It is because some cryptocurrencies listed in coinmarketcap.com have no known market capitalization, this is represented by NaN in the data, and NaNs are not counted by count(). These cryptocurrencies are of little interest to us in this analysis, so they are safe to remove."
   ]
  },
  {
   "cell_type": "code",
   "execution_count": null,
   "id": "f44a74c5",
   "metadata": {},
   "outputs": [],
   "source": [
    "# Filtering out rows without a market capitalization\n",
    "cap = market_cap_raw.dropna()"
   ]
  },
  {
   "cell_type": "code",
   "execution_count": null,
   "id": "8d38cda7",
   "metadata": {},
   "outputs": [],
   "source": [
    "cap.count()"
   ]
  },
  {
   "cell_type": "code",
   "execution_count": null,
   "id": "74268ecc",
   "metadata": {},
   "outputs": [],
   "source": [
    "cap"
   ]
  },
  {
   "cell_type": "markdown",
   "id": "36a11aac",
   "metadata": {},
   "source": [
    "# 3. How big is Bitcoin compared with the rest of the cryptocurrencies?\n",
    "At the time of writing, Bitcoin is under serious competition from other projects, but it is still dominant in market capitalization. Let's plot the market capitalization for the top 10 coins as a barplot to better visualize this."
   ]
  },
  {
   "cell_type": "code",
   "execution_count": null,
   "id": "a3ed2854",
   "metadata": {},
   "outputs": [],
   "source": [
    "#Declaring these now for later use in the plots\n",
    "TOP_CAP_TITLE = 'Top 10 market capitalization'\n",
    "TOP_CAP_YLABEL = '% of total cap'\n",
    "\n",
    "# Selecting the first 10 rows and setting the index\n",
    "cap10 = cap.head(10).set_index(cap.id[:10])\n",
    "\n",
    "# Calculating market_cap_perc\n",
    "cap10 = cap10.assign(market_cap_perc =\n",
    "                    lambda x: (x.market_cap_usd / cap.market_cap_usd.sum()) * 100)\n",
    "\n",
    "# Plotting the barplot with the title defined above \n",
    "ax = cap10.plot.bar(x = 'id', y = 'market_cap_perc', title = TOP_CAP_TITLE)\n",
    "\n",
    "# Annotating the y axis with the label defined above\n",
    "ax.set_ylabel(TOP_CAP_YLABEL)"
   ]
  },
  {
   "cell_type": "markdown",
   "id": "96e92321",
   "metadata": {},
   "source": [
    "# 4. Making the plot easier to read and more informative\n",
    "Although the above plot is informative enough, it can be improved. Bitcoin is very large and because of this it is difficult to distinguish from other coins. Instead of percentages, let's use the log10 scale of \"raw\" capitalization. Also, let's use color to group similar coins and make the plot more informative1.\n",
    "\n",
    "For the sake of color logic: Bitcoin-Cash and Bitcoin-Gold are forks of the Bitcoin blockchain2. Both Ethereum and Cardano offer Turing Complete smart contracts. Iota and Ripple are not mineable. Dash, Litecoin, and Monero get their own color.\n",
    "\n",
    "1 This color is a simplification. There are other differences and similarities that are not represented here.\n",
    "The 2 Bitcoin forks are actually very different, but it's beyond the scope to talk about them here."
   ]
  },
  {
   "cell_type": "markdown",
   "id": "40351358",
   "metadata": {},
   "source": [
    "# 5. What is going on?! Volatility in cryptocurrencies\n",
    "\n",
    "The cryptocurrency market has been spectacularly volatile since the first exchanges opened. This notebook didn't start out without some big, bold warnings. Let's explore this volatility a little more! We'll start by selecting and plotting the 24 hour and 7 day percentage change, which we already have available."
   ]
  },
  {
   "cell_type": "code",
   "execution_count": null,
   "id": "f1600c45",
   "metadata": {},
   "outputs": [],
   "source": [
    "# Selecting the id, percent_change_24h and percent_change_7d columns\n",
    "volatility = df[['id', 'percent_change_24h', 'percent_change_7d']]\n",
    "\n",
    "# Setting the index to 'id' and dropping all NaN rows\n",
    "volatility = volatility.set_index('id').dropna()\n",
    "\n",
    "# Sorting the DataFrame by percent_change_24h in ascending order\n",
    "volatility = volatility.sort_values('percent_change_24h', ascending = True)\n",
    "\n",
    "# Checking the first few rows\n",
    "# ... YOUR CODE FOR TASK 6 ...\n",
    "volatility.head()"
   ]
  },
  {
   "cell_type": "markdown",
   "id": "4ec08359",
   "metadata": {},
   "source": [
    "# 6. Well, we can already see that things are a bit crazy\n",
    "It seems you can lose a lot of money quickly on cryptocurrencies. Let's plot the top 10 biggest gainers and top 10 losers in market capitalization."
   ]
  },
  {
   "cell_type": "code",
   "execution_count": null,
   "id": "8d8949ab",
   "metadata": {},
   "outputs": [],
   "source": [
    "#Defining a function with 2 parameters, the series to plot and the title\n",
    "def top10_subplot(volatility_series, title):\n",
    "    # Making the subplot and the figure for two side by side plots\n",
    "    fig, axes = plt.subplots(nrows=1, ncols=2, figsize=(10, 6))\n",
    "    \n",
    "    # Plotting with pandas the barchart for the top 10 losers\n",
    "    ax = (volatility_series[:10].plot.bar(color = 'darkred', ax = axes[0]))\n",
    "    \n",
    "    # Setting the figure's main title to the text passed as parameter\n",
    "    fig.suptitle(title)\n",
    "    # Setting the ylabel to '% change'\n",
    "    ax.set_ylabel('% change')\n",
    "    # Same as above, but for the top 10 winners\n",
    "    ax = (volatility_series[-10:].plot.bar(color = 'darkblue', ax = axes[1]))\n",
    "    \n",
    "    # Returning this for good practice, might use later\n",
    "    return fig, ax\n",
    "\n",
    "DTITLE = \"24 hours top losers and winners\"\n",
    "\n",
    "# Calling the function above with the 24 hours period series and title DTITLE  \n",
    "fig, ax = top10_subplot(volatility.percent_change_24h, DTITLE)"
   ]
  },
  {
   "cell_type": "markdown",
   "id": "e8e9201c",
   "metadata": {},
   "source": [
    "# 7. check the weekly Series too.\n",
    "800% daily increase?! Why are we doing this tutorial and not buying random coins?1\n",
    "\n",
    "After calming down, let's reuse the function defined above to see what is going weekly instead of daily.\n",
    "\n",
    "1 Please take a moment to understand the implications of the red plots on how much value some cryptocurrencies lose in such short periods of time"
   ]
  },
  {
   "cell_type": "code",
   "execution_count": null,
   "id": "18c1e93c",
   "metadata": {},
   "outputs": [],
   "source": [
    "# Sorting in ascending order\n",
    "volatility7d = volatility.sort_values('percent_change_7d', ascending = True)\n",
    "\n",
    "WTITLE = \"Weekly top losers and winners\"\n",
    "\n",
    "# Calling the top10_subplot function\n",
    "fig, ax = top10_subplot(volatility7d.percent_change_7d, WTITLE)"
   ]
  },
  {
   "cell_type": "markdown",
   "id": "037b4841",
   "metadata": {},
   "source": [
    "# 8. How small is small?\n",
    "\n",
    "The above cryptocurrency names are very unknown and the 1 and 7 day percentage changes fluctuate significantly. As with stocks and many other financial products, the smaller the capitalization, the greater the risk and reward. Smaller cryptocurrencies are generally less stable projects and therefore riskier investments than larger cryptocurrencies. Let's classify our dataset based on Investopedia's capitalization definition for company stocks.\n",
    "\n",
    "1 Cryptocurrencies are a new asset class, so they are not directly comparable to stocks. Furthermore, there is no limit set in stone as to what constitutes a \"small\" or \"large\" stock. Finally, some investors argue that Bitcoin is similar to gold, making it comparable to a commodity instead."
   ]
  },
  {
   "cell_type": "code",
   "execution_count": null,
   "id": "2a420510",
   "metadata": {},
   "outputs": [],
   "source": [
    "# Selecting everything bigger than 10 billion \n",
    "largecaps = cap.query('market_cap_usd > 10000000000')\n",
    "\n",
    "# Printing out largecaps\n",
    "largecaps"
   ]
  },
  {
   "cell_type": "markdown",
   "id": "33e9f0ce",
   "metadata": {},
   "source": [
    "# 9. Most coins are tiny\n",
    "Note that many coins are not comparable to large companies in market cap, so let's divert from the original Investopedia definition by merging categories."
   ]
  },
  {
   "cell_type": "code",
   "execution_count": null,
   "id": "aa3f61ba",
   "metadata": {},
   "outputs": [],
   "source": [
    "# Making a nice function for counting different marketcaps from the\n",
    "# \"cap\" DataFrame. Returns an int.\n",
    "# INSTRUCTORS NOTE: Since you made it to the end, consider it a gift :D\n",
    "def capcount(query_string):\n",
    "    return cap.query(query_string).count().id\n",
    "\n",
    "# Labels for the plot\n",
    "LABELS = [\"biggish\", \"micro\", \"nano\"]\n",
    "\n",
    "# Using capcount count the biggish cryptos\n",
    "biggish = capcount('market_cap_usd > 300000000')\n",
    "\n",
    "# Same as above for micro ...\n",
    "micro = capcount('market_cap_usd > 50000000 & market_cap_usd < 300000000')\n",
    "\n",
    "# ... and for nano\n",
    "nano =  capcount('market_cap_usd < 50000000')\n",
    "\n",
    "# Making a list with the 3 counts\n",
    "values = (biggish, micro, nano)\n",
    "\n",
    "# Plotting them with matplotlib \n",
    "plt.bar(range(len(values)), values, tick_label = LABELS)"
   ]
  },
  {
   "cell_type": "markdown",
   "id": "fd7c8912",
   "metadata": {},
   "source": [
    "# Potential Results:\n",
    "Exploring the Bitcoin cryptocurrency market is anticipated to yield valuable insights into market trends, potential investment opportunities, and risk factors. Through comprehensive analysis, the project aims to empower stakeholders with a better understanding of the dynamic crypto landscape, enabling informed decision making and strategic planning. The results may include the identification of emerging patterns, key influencers, and regulatory considerations, which may contribute to a more nuanced perspective on the opportunities and challenges within the Bitcoin market."
   ]
  },
  {
   "cell_type": "markdown",
   "id": "78980db2",
   "metadata": {},
   "source": [
    "Thanks IBM SKILL BULD TEAM"
   ]
  }
 ],
 "metadata": {
  "kernelspec": {
   "display_name": "Python 3 (ipykernel)",
   "language": "python",
   "name": "python3"
  },
  "language_info": {
   "codemirror_mode": {
    "name": "ipython",
    "version": 3
   },
   "file_extension": ".py",
   "mimetype": "text/x-python",
   "name": "python",
   "nbconvert_exporter": "python",
   "pygments_lexer": "ipython3",
   "version": "3.11.3"
  }
 },
 "nbformat": 4,
 "nbformat_minor": 5
}
